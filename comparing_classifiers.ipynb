{
  "nbformat": 4,
  "nbformat_minor": 0,
  "metadata": {
    "kernelspec": {
      "display_name": "Python 3",
      "language": "python",
      "name": "python3"
    },
    "language_info": {
      "codemirror_mode": {
        "name": "ipython",
        "version": 3
      },
      "file_extension": ".py",
      "mimetype": "text/x-python",
      "name": "python",
      "nbconvert_exporter": "python",
      "pygments_lexer": "ipython3",
      "version": "3.7.6"
    },
    "colab": {
      "name": "comparing-classifiers.ipynb",
      "provenance": []
    }
  },
  "cells": [
    {
      "cell_type": "markdown",
      "metadata": {
        "id": "ZDcjdXb8bjVa",
        "colab_type": "text"
      },
      "source": [
        "# Comparing Classifiers for Building Classification Models\n",
        "\n",
        "\n",
        "In this Jupyter notebook, we will be comparing the performance of different classifiers for building classification models for Breast Cancer Dataset."
      ]
    },
    {
      "cell_type": "markdown",
      "metadata": {
        "id": "qql8GLG8bjVg",
        "colab_type": "text"
      },
      "source": [
        "## 1. Make breast cancer  dataset"
      ]
    },
    {
      "cell_type": "markdown",
      "metadata": {
        "id": "Q_V-3YukbjVj",
        "colab_type": "text"
      },
      "source": [
        "### 1.1. Import library"
      ]
    },
    {
      "cell_type": "code",
      "metadata": {
        "id": "6MV4fDJWbjVn",
        "colab_type": "code",
        "colab": {}
      },
      "source": [
        "from sklearn.datasets import make_classification\n",
        "from sklearn import datasets\n"
      ],
      "execution_count": 2,
      "outputs": []
    },
    {
      "cell_type": "markdown",
      "metadata": {
        "id": "JP9giqzBbjV_",
        "colab_type": "text"
      },
      "source": [
        "### 1.2. Generate the dataset"
      ]
    },
    {
      "cell_type": "code",
      "metadata": {
        "id": "GgBzRAOUbjWB",
        "colab_type": "code",
        "colab": {}
      },
      "source": [
        "bc = datasets.load_breast_cancer()"
      ],
      "execution_count": 3,
      "outputs": []
    },
    {
      "cell_type": "code",
      "metadata": {
        "id": "vYKgeJMSrCPv",
        "colab_type": "code",
        "colab": {}
      },
      "source": [
        "X = bc.data\n",
        "Y = bc.target"
      ],
      "execution_count": 4,
      "outputs": []
    },
    {
      "cell_type": "markdown",
      "metadata": {
        "id": "8Ubg1RoIbjWT",
        "colab_type": "text"
      },
      "source": [
        "### 1.3. Let's examine the data dimension"
      ]
    },
    {
      "cell_type": "code",
      "metadata": {
        "id": "Ypyf4qFJbjWW",
        "colab_type": "code",
        "colab": {
          "base_uri": "https://localhost:8080/",
          "height": 34
        },
        "outputId": "38d17b2b-782f-4beb-a97c-a991a037b463"
      },
      "source": [
        "X.shape"
      ],
      "execution_count": 5,
      "outputs": [
        {
          "output_type": "execute_result",
          "data": {
            "text/plain": [
              "(569, 30)"
            ]
          },
          "metadata": {
            "tags": []
          },
          "execution_count": 5
        }
      ]
    },
    {
      "cell_type": "code",
      "metadata": {
        "id": "cUsn0fnabjWq",
        "colab_type": "code",
        "colab": {
          "base_uri": "https://localhost:8080/",
          "height": 34
        },
        "outputId": "d1851a5f-f137-461e-9727-89ca4dc5a109"
      },
      "source": [
        "Y.shape"
      ],
      "execution_count": 6,
      "outputs": [
        {
          "output_type": "execute_result",
          "data": {
            "text/plain": [
              "(569,)"
            ]
          },
          "metadata": {
            "tags": []
          },
          "execution_count": 6
        }
      ]
    },
    {
      "cell_type": "markdown",
      "metadata": {
        "id": "XD3RAt0dbjW2",
        "colab_type": "text"
      },
      "source": [
        "## 2. Data split (80/20 ratio)"
      ]
    },
    {
      "cell_type": "markdown",
      "metadata": {
        "id": "Ofb0I1uLbjW-",
        "colab_type": "text"
      },
      "source": [
        "### 2.1. Import library"
      ]
    },
    {
      "cell_type": "code",
      "metadata": {
        "id": "7o7VJOmLbjXB",
        "colab_type": "code",
        "colab": {}
      },
      "source": [
        "from sklearn.model_selection import train_test_split"
      ],
      "execution_count": 7,
      "outputs": []
    },
    {
      "cell_type": "markdown",
      "metadata": {
        "id": "VuicwjSrbjXV",
        "colab_type": "text"
      },
      "source": [
        "### 2.2. Data split"
      ]
    },
    {
      "cell_type": "code",
      "metadata": {
        "id": "iHsKbgaNbjXY",
        "colab_type": "code",
        "colab": {}
      },
      "source": [
        "X_train, X_test, Y_train, Y_test = train_test_split(X, Y, test_size=0.2)"
      ],
      "execution_count": 8,
      "outputs": []
    },
    {
      "cell_type": "markdown",
      "metadata": {
        "id": "2mZP7f5objXw",
        "colab_type": "text"
      },
      "source": [
        "### 2.3. Let's examine the data dimension"
      ]
    },
    {
      "cell_type": "code",
      "metadata": {
        "id": "KPztPvv8bjXx",
        "colab_type": "code",
        "colab": {
          "base_uri": "https://localhost:8080/",
          "height": 34
        },
        "outputId": "aebf653a-52e0-4c8f-86b2-a90a41cecceb"
      },
      "source": [
        "X_train.shape, Y_train.shape"
      ],
      "execution_count": 9,
      "outputs": [
        {
          "output_type": "execute_result",
          "data": {
            "text/plain": [
              "((455, 30), (455,))"
            ]
          },
          "metadata": {
            "tags": []
          },
          "execution_count": 9
        }
      ]
    },
    {
      "cell_type": "code",
      "metadata": {
        "id": "Pfs8wgVjbjX-",
        "colab_type": "code",
        "colab": {
          "base_uri": "https://localhost:8080/",
          "height": 34
        },
        "outputId": "69956731-e27d-4b4f-fbb5-70f0ce9dcf8b"
      },
      "source": [
        "X_test.shape, Y_test.shape"
      ],
      "execution_count": 10,
      "outputs": [
        {
          "output_type": "execute_result",
          "data": {
            "text/plain": [
              "((114, 30), (114,))"
            ]
          },
          "metadata": {
            "tags": []
          },
          "execution_count": 10
        }
      ]
    },
    {
      "cell_type": "markdown",
      "metadata": {
        "id": "hhHS2uPibjYU",
        "colab_type": "text"
      },
      "source": [
        "## 3. Build Classification Models\n",
        "\n",
        "Modified from: https://scikit-learn.org/stable/auto_examples/classification/plot_classifier_comparison.html"
      ]
    },
    {
      "cell_type": "markdown",
      "metadata": {
        "id": "FMSJlRn7bjYX",
        "colab_type": "text"
      },
      "source": [
        "### 3.1. Import modules"
      ]
    },
    {
      "cell_type": "code",
      "metadata": {
        "id": "xDIlk_ShbjYZ",
        "colab_type": "code",
        "colab": {}
      },
      "source": [
        "import pandas as pd\n",
        "\n",
        "from sklearn.neural_network import MLPClassifier\n",
        "from sklearn.neighbors import KNeighborsClassifier\n",
        "from sklearn.svm import SVC\n",
        "from sklearn.gaussian_process import GaussianProcessClassifier\n",
        "from sklearn.ensemble import GradientBoostingClassifier\n",
        "from sklearn.gaussian_process.kernels import RBF\n",
        "from sklearn.tree import DecisionTreeClassifier\n",
        "from sklearn.ensemble import ExtraTreesClassifier\n",
        "from sklearn.ensemble import RandomForestClassifier, AdaBoostClassifier\n",
        "from sklearn.naive_bayes import GaussianNB\n",
        "from sklearn.discriminant_analysis import QuadraticDiscriminantAnalysis\n",
        "from sklearn.linear_model import SGDClassifier"
      ],
      "execution_count": 11,
      "outputs": []
    },
    {
      "cell_type": "markdown",
      "metadata": {
        "id": "gVDL6UcCbjYp",
        "colab_type": "text"
      },
      "source": [
        "### 3.2. Defining learning classifiers"
      ]
    },
    {
      "cell_type": "code",
      "metadata": {
        "id": "xJsMfD-4bjYv",
        "colab_type": "code",
        "colab": {}
      },
      "source": [
        "names = [\"Nearest_Neighbors\", \"Linear_SVM\", \"Polynomial_SVM\", \"RBF_SVM\", \"Gaussian_Process\",\n",
        "         \"Gradient_Boosting\", \"Decision_Tree\", \"Extra_Trees\", \"Random_Forest\", \"Neural_Net\", \"AdaBoost\",\n",
        "         \"Naive_Bayes\", \"QDA\", \"SGD\"]\n",
        "\n",
        "classifiers = [\n",
        "    KNeighborsClassifier(3),\n",
        "    SVC(kernel=\"linear\", C=0.025),\n",
        "    SVC(kernel=\"poly\", degree=3, C=0.025),\n",
        "    SVC(kernel=\"rbf\", C=1, gamma=2),\n",
        "    GaussianProcessClassifier(1.0 * RBF(1.0)),\n",
        "    GradientBoostingClassifier(n_estimators=100, learning_rate=1.0),\n",
        "    DecisionTreeClassifier(max_depth=5),\n",
        "    ExtraTreesClassifier(n_estimators=10, min_samples_split=2),\n",
        "    RandomForestClassifier(max_depth=5, n_estimators=100),\n",
        "    MLPClassifier(alpha=1, max_iter=1000),\n",
        "    AdaBoostClassifier(n_estimators=100),\n",
        "    GaussianNB(),\n",
        "    QuadraticDiscriminantAnalysis(),\n",
        "    SGDClassifier(loss=\"hinge\", penalty=\"l2\")]"
      ],
      "execution_count": 12,
      "outputs": []
    },
    {
      "cell_type": "markdown",
      "metadata": {
        "id": "LEQqUjU7bjY7",
        "colab_type": "text"
      },
      "source": [
        "### 3.3. Build Model, Apply Model on Test Data & Record Accuracy Scores"
      ]
    },
    {
      "cell_type": "code",
      "metadata": {
        "id": "rMjfvNRVbjY_",
        "colab_type": "code",
        "colab": {}
      },
      "source": [
        "scores = []\n",
        "for name, clf in zip(names, classifiers):\n",
        "    clf.fit(X_train, Y_train)\n",
        "    score = clf.score(X_test, Y_test)\n",
        "    scores.append(score)"
      ],
      "execution_count": 13,
      "outputs": []
    },
    {
      "cell_type": "code",
      "metadata": {
        "id": "4PTqeo-ObjZL",
        "colab_type": "code",
        "colab": {
          "base_uri": "https://localhost:8080/",
          "height": 255
        },
        "outputId": "81885151-9977-4b8b-b732-c344a7b40df6"
      },
      "source": [
        "scores"
      ],
      "execution_count": 14,
      "outputs": [
        {
          "output_type": "execute_result",
          "data": {
            "text/plain": [
              "[0.9122807017543859,\n",
              " 0.9385964912280702,\n",
              " 0.8771929824561403,\n",
              " 0.6403508771929824,\n",
              " 0.9035087719298246,\n",
              " 0.9649122807017544,\n",
              " 0.9298245614035088,\n",
              " 0.9649122807017544,\n",
              " 0.9649122807017544,\n",
              " 0.9122807017543859,\n",
              " 0.9912280701754386,\n",
              " 0.9385964912280702,\n",
              " 0.956140350877193,\n",
              " 0.9210526315789473]"
            ]
          },
          "metadata": {
            "tags": []
          },
          "execution_count": 14
        }
      ]
    },
    {
      "cell_type": "markdown",
      "metadata": {
        "id": "RnZtWjRVbjZa",
        "colab_type": "text"
      },
      "source": [
        "## 4. Analysis of Model Performance"
      ]
    },
    {
      "cell_type": "markdown",
      "metadata": {
        "id": "JuOzeUoEbjZc",
        "colab_type": "text"
      },
      "source": [
        "### 4.1. Import library"
      ]
    },
    {
      "cell_type": "code",
      "metadata": {
        "id": "sefvH8g3bjZl",
        "colab_type": "code",
        "colab": {
          "base_uri": "https://localhost:8080/",
          "height": 71
        },
        "outputId": "cc08911f-9aab-48d4-b34e-b1e449d846b0"
      },
      "source": [
        "import pandas as pd\n",
        "import seaborn as sns"
      ],
      "execution_count": 15,
      "outputs": [
        {
          "output_type": "stream",
          "text": [
            "/usr/local/lib/python3.6/dist-packages/statsmodels/tools/_testing.py:19: FutureWarning: pandas.util.testing is deprecated. Use the functions in the public API at pandas.testing instead.\n",
            "  import pandas.util.testing as tm\n"
          ],
          "name": "stderr"
        }
      ]
    },
    {
      "cell_type": "markdown",
      "metadata": {
        "id": "r__RrLojbjZy",
        "colab_type": "text"
      },
      "source": [
        "### 4.2. Create data frame of *model performance*"
      ]
    },
    {
      "cell_type": "code",
      "metadata": {
        "id": "lKk2t4ykbjZ0",
        "colab_type": "code",
        "colab": {
          "base_uri": "https://localhost:8080/",
          "height": 483
        },
        "outputId": "d40134a3-6dca-4e81-90c8-138fd2773435"
      },
      "source": [
        "df = pd.DataFrame()\n",
        "df['name'] = names\n",
        "df['score'] = scores\n",
        "df"
      ],
      "execution_count": 16,
      "outputs": [
        {
          "output_type": "execute_result",
          "data": {
            "text/html": [
              "<div>\n",
              "<style scoped>\n",
              "    .dataframe tbody tr th:only-of-type {\n",
              "        vertical-align: middle;\n",
              "    }\n",
              "\n",
              "    .dataframe tbody tr th {\n",
              "        vertical-align: top;\n",
              "    }\n",
              "\n",
              "    .dataframe thead th {\n",
              "        text-align: right;\n",
              "    }\n",
              "</style>\n",
              "<table border=\"1\" class=\"dataframe\">\n",
              "  <thead>\n",
              "    <tr style=\"text-align: right;\">\n",
              "      <th></th>\n",
              "      <th>name</th>\n",
              "      <th>score</th>\n",
              "    </tr>\n",
              "  </thead>\n",
              "  <tbody>\n",
              "    <tr>\n",
              "      <th>0</th>\n",
              "      <td>Nearest_Neighbors</td>\n",
              "      <td>0.912281</td>\n",
              "    </tr>\n",
              "    <tr>\n",
              "      <th>1</th>\n",
              "      <td>Linear_SVM</td>\n",
              "      <td>0.938596</td>\n",
              "    </tr>\n",
              "    <tr>\n",
              "      <th>2</th>\n",
              "      <td>Polynomial_SVM</td>\n",
              "      <td>0.877193</td>\n",
              "    </tr>\n",
              "    <tr>\n",
              "      <th>3</th>\n",
              "      <td>RBF_SVM</td>\n",
              "      <td>0.640351</td>\n",
              "    </tr>\n",
              "    <tr>\n",
              "      <th>4</th>\n",
              "      <td>Gaussian_Process</td>\n",
              "      <td>0.903509</td>\n",
              "    </tr>\n",
              "    <tr>\n",
              "      <th>5</th>\n",
              "      <td>Gradient_Boosting</td>\n",
              "      <td>0.964912</td>\n",
              "    </tr>\n",
              "    <tr>\n",
              "      <th>6</th>\n",
              "      <td>Decision_Tree</td>\n",
              "      <td>0.929825</td>\n",
              "    </tr>\n",
              "    <tr>\n",
              "      <th>7</th>\n",
              "      <td>Extra_Trees</td>\n",
              "      <td>0.964912</td>\n",
              "    </tr>\n",
              "    <tr>\n",
              "      <th>8</th>\n",
              "      <td>Random_Forest</td>\n",
              "      <td>0.964912</td>\n",
              "    </tr>\n",
              "    <tr>\n",
              "      <th>9</th>\n",
              "      <td>Neural_Net</td>\n",
              "      <td>0.912281</td>\n",
              "    </tr>\n",
              "    <tr>\n",
              "      <th>10</th>\n",
              "      <td>AdaBoost</td>\n",
              "      <td>0.991228</td>\n",
              "    </tr>\n",
              "    <tr>\n",
              "      <th>11</th>\n",
              "      <td>Naive_Bayes</td>\n",
              "      <td>0.938596</td>\n",
              "    </tr>\n",
              "    <tr>\n",
              "      <th>12</th>\n",
              "      <td>QDA</td>\n",
              "      <td>0.956140</td>\n",
              "    </tr>\n",
              "    <tr>\n",
              "      <th>13</th>\n",
              "      <td>SGD</td>\n",
              "      <td>0.921053</td>\n",
              "    </tr>\n",
              "  </tbody>\n",
              "</table>\n",
              "</div>"
            ],
            "text/plain": [
              "                 name     score\n",
              "0   Nearest_Neighbors  0.912281\n",
              "1          Linear_SVM  0.938596\n",
              "2      Polynomial_SVM  0.877193\n",
              "3             RBF_SVM  0.640351\n",
              "4    Gaussian_Process  0.903509\n",
              "5   Gradient_Boosting  0.964912\n",
              "6       Decision_Tree  0.929825\n",
              "7         Extra_Trees  0.964912\n",
              "8       Random_Forest  0.964912\n",
              "9          Neural_Net  0.912281\n",
              "10           AdaBoost  0.991228\n",
              "11        Naive_Bayes  0.938596\n",
              "12                QDA  0.956140\n",
              "13                SGD  0.921053"
            ]
          },
          "metadata": {
            "tags": []
          },
          "execution_count": 16
        }
      ]
    },
    {
      "cell_type": "markdown",
      "metadata": {
        "id": "dBxck_AMbjZ-",
        "colab_type": "text"
      },
      "source": [
        "### 4.3. Adding colors to the data frame"
      ]
    },
    {
      "cell_type": "code",
      "metadata": {
        "scrolled": true,
        "id": "ABvGaLeBbjaG",
        "colab_type": "code",
        "colab": {
          "base_uri": "https://localhost:8080/",
          "height": 334
        },
        "outputId": "a960d352-6158-4134-845d-add466cb8c11"
      },
      "source": [
        "#https://pandas.pydata.org/pandas-docs/stable/user_guide/style.html\n",
        "\n",
        "cm = sns.light_palette(\"green\", as_cmap=True)\n",
        "s = df.style.background_gradient(cmap=cm)\n",
        "s"
      ],
      "execution_count": 23,
      "outputs": [
        {
          "output_type": "execute_result",
          "data": {
            "text/html": [
              "<style  type=\"text/css\" >\n",
              "    #T_a33ece22_b2ca_11ea_9e7f_0242ac1c0002row0_col1 {\n",
              "            background-color:  #339c33;\n",
              "            color:  #000000;\n",
              "        }    #T_a33ece22_b2ca_11ea_9e7f_0242ac1c0002row1_col1 {\n",
              "            background-color:  #229322;\n",
              "            color:  #000000;\n",
              "        }    #T_a33ece22_b2ca_11ea_9e7f_0242ac1c0002row2_col1 {\n",
              "            background-color:  #4ba94b;\n",
              "            color:  #000000;\n",
              "        }    #T_a33ece22_b2ca_11ea_9e7f_0242ac1c0002row3_col1 {\n",
              "            background-color:  #e5ffe5;\n",
              "            color:  #000000;\n",
              "        }    #T_a33ece22_b2ca_11ea_9e7f_0242ac1c0002row4_col1 {\n",
              "            background-color:  #399f39;\n",
              "            color:  #000000;\n",
              "        }    #T_a33ece22_b2ca_11ea_9e7f_0242ac1c0002row5_col1 {\n",
              "            background-color:  #118911;\n",
              "            color:  #f1f1f1;\n",
              "        }    #T_a33ece22_b2ca_11ea_9e7f_0242ac1c0002row6_col1 {\n",
              "            background-color:  #289628;\n",
              "            color:  #000000;\n",
              "        }    #T_a33ece22_b2ca_11ea_9e7f_0242ac1c0002row7_col1 {\n",
              "            background-color:  #118911;\n",
              "            color:  #f1f1f1;\n",
              "        }    #T_a33ece22_b2ca_11ea_9e7f_0242ac1c0002row8_col1 {\n",
              "            background-color:  #118911;\n",
              "            color:  #f1f1f1;\n",
              "        }    #T_a33ece22_b2ca_11ea_9e7f_0242ac1c0002row9_col1 {\n",
              "            background-color:  #339c33;\n",
              "            color:  #000000;\n",
              "        }    #T_a33ece22_b2ca_11ea_9e7f_0242ac1c0002row10_col1 {\n",
              "            background-color:  #008000;\n",
              "            color:  #f1f1f1;\n",
              "        }    #T_a33ece22_b2ca_11ea_9e7f_0242ac1c0002row11_col1 {\n",
              "            background-color:  #229322;\n",
              "            color:  #000000;\n",
              "        }    #T_a33ece22_b2ca_11ea_9e7f_0242ac1c0002row12_col1 {\n",
              "            background-color:  #178c17;\n",
              "            color:  #000000;\n",
              "        }    #T_a33ece22_b2ca_11ea_9e7f_0242ac1c0002row13_col1 {\n",
              "            background-color:  #2e992e;\n",
              "            color:  #000000;\n",
              "        }</style><table id=\"T_a33ece22_b2ca_11ea_9e7f_0242ac1c0002\" ><thead>    <tr>        <th class=\"blank level0\" ></th>        <th class=\"col_heading level0 col0\" >name</th>        <th class=\"col_heading level0 col1\" >score</th>    </tr></thead><tbody>\n",
              "                <tr>\n",
              "                        <th id=\"T_a33ece22_b2ca_11ea_9e7f_0242ac1c0002level0_row0\" class=\"row_heading level0 row0\" >0</th>\n",
              "                        <td id=\"T_a33ece22_b2ca_11ea_9e7f_0242ac1c0002row0_col0\" class=\"data row0 col0\" >Nearest_Neighbors</td>\n",
              "                        <td id=\"T_a33ece22_b2ca_11ea_9e7f_0242ac1c0002row0_col1\" class=\"data row0 col1\" >0.912281</td>\n",
              "            </tr>\n",
              "            <tr>\n",
              "                        <th id=\"T_a33ece22_b2ca_11ea_9e7f_0242ac1c0002level0_row1\" class=\"row_heading level0 row1\" >1</th>\n",
              "                        <td id=\"T_a33ece22_b2ca_11ea_9e7f_0242ac1c0002row1_col0\" class=\"data row1 col0\" >Linear_SVM</td>\n",
              "                        <td id=\"T_a33ece22_b2ca_11ea_9e7f_0242ac1c0002row1_col1\" class=\"data row1 col1\" >0.938596</td>\n",
              "            </tr>\n",
              "            <tr>\n",
              "                        <th id=\"T_a33ece22_b2ca_11ea_9e7f_0242ac1c0002level0_row2\" class=\"row_heading level0 row2\" >2</th>\n",
              "                        <td id=\"T_a33ece22_b2ca_11ea_9e7f_0242ac1c0002row2_col0\" class=\"data row2 col0\" >Polynomial_SVM</td>\n",
              "                        <td id=\"T_a33ece22_b2ca_11ea_9e7f_0242ac1c0002row2_col1\" class=\"data row2 col1\" >0.877193</td>\n",
              "            </tr>\n",
              "            <tr>\n",
              "                        <th id=\"T_a33ece22_b2ca_11ea_9e7f_0242ac1c0002level0_row3\" class=\"row_heading level0 row3\" >3</th>\n",
              "                        <td id=\"T_a33ece22_b2ca_11ea_9e7f_0242ac1c0002row3_col0\" class=\"data row3 col0\" >RBF_SVM</td>\n",
              "                        <td id=\"T_a33ece22_b2ca_11ea_9e7f_0242ac1c0002row3_col1\" class=\"data row3 col1\" >0.640351</td>\n",
              "            </tr>\n",
              "            <tr>\n",
              "                        <th id=\"T_a33ece22_b2ca_11ea_9e7f_0242ac1c0002level0_row4\" class=\"row_heading level0 row4\" >4</th>\n",
              "                        <td id=\"T_a33ece22_b2ca_11ea_9e7f_0242ac1c0002row4_col0\" class=\"data row4 col0\" >Gaussian_Process</td>\n",
              "                        <td id=\"T_a33ece22_b2ca_11ea_9e7f_0242ac1c0002row4_col1\" class=\"data row4 col1\" >0.903509</td>\n",
              "            </tr>\n",
              "            <tr>\n",
              "                        <th id=\"T_a33ece22_b2ca_11ea_9e7f_0242ac1c0002level0_row5\" class=\"row_heading level0 row5\" >5</th>\n",
              "                        <td id=\"T_a33ece22_b2ca_11ea_9e7f_0242ac1c0002row5_col0\" class=\"data row5 col0\" >Gradient_Boosting</td>\n",
              "                        <td id=\"T_a33ece22_b2ca_11ea_9e7f_0242ac1c0002row5_col1\" class=\"data row5 col1\" >0.964912</td>\n",
              "            </tr>\n",
              "            <tr>\n",
              "                        <th id=\"T_a33ece22_b2ca_11ea_9e7f_0242ac1c0002level0_row6\" class=\"row_heading level0 row6\" >6</th>\n",
              "                        <td id=\"T_a33ece22_b2ca_11ea_9e7f_0242ac1c0002row6_col0\" class=\"data row6 col0\" >Decision_Tree</td>\n",
              "                        <td id=\"T_a33ece22_b2ca_11ea_9e7f_0242ac1c0002row6_col1\" class=\"data row6 col1\" >0.929825</td>\n",
              "            </tr>\n",
              "            <tr>\n",
              "                        <th id=\"T_a33ece22_b2ca_11ea_9e7f_0242ac1c0002level0_row7\" class=\"row_heading level0 row7\" >7</th>\n",
              "                        <td id=\"T_a33ece22_b2ca_11ea_9e7f_0242ac1c0002row7_col0\" class=\"data row7 col0\" >Extra_Trees</td>\n",
              "                        <td id=\"T_a33ece22_b2ca_11ea_9e7f_0242ac1c0002row7_col1\" class=\"data row7 col1\" >0.964912</td>\n",
              "            </tr>\n",
              "            <tr>\n",
              "                        <th id=\"T_a33ece22_b2ca_11ea_9e7f_0242ac1c0002level0_row8\" class=\"row_heading level0 row8\" >8</th>\n",
              "                        <td id=\"T_a33ece22_b2ca_11ea_9e7f_0242ac1c0002row8_col0\" class=\"data row8 col0\" >Random_Forest</td>\n",
              "                        <td id=\"T_a33ece22_b2ca_11ea_9e7f_0242ac1c0002row8_col1\" class=\"data row8 col1\" >0.964912</td>\n",
              "            </tr>\n",
              "            <tr>\n",
              "                        <th id=\"T_a33ece22_b2ca_11ea_9e7f_0242ac1c0002level0_row9\" class=\"row_heading level0 row9\" >9</th>\n",
              "                        <td id=\"T_a33ece22_b2ca_11ea_9e7f_0242ac1c0002row9_col0\" class=\"data row9 col0\" >Neural_Net</td>\n",
              "                        <td id=\"T_a33ece22_b2ca_11ea_9e7f_0242ac1c0002row9_col1\" class=\"data row9 col1\" >0.912281</td>\n",
              "            </tr>\n",
              "            <tr>\n",
              "                        <th id=\"T_a33ece22_b2ca_11ea_9e7f_0242ac1c0002level0_row10\" class=\"row_heading level0 row10\" >10</th>\n",
              "                        <td id=\"T_a33ece22_b2ca_11ea_9e7f_0242ac1c0002row10_col0\" class=\"data row10 col0\" >AdaBoost</td>\n",
              "                        <td id=\"T_a33ece22_b2ca_11ea_9e7f_0242ac1c0002row10_col1\" class=\"data row10 col1\" >0.991228</td>\n",
              "            </tr>\n",
              "            <tr>\n",
              "                        <th id=\"T_a33ece22_b2ca_11ea_9e7f_0242ac1c0002level0_row11\" class=\"row_heading level0 row11\" >11</th>\n",
              "                        <td id=\"T_a33ece22_b2ca_11ea_9e7f_0242ac1c0002row11_col0\" class=\"data row11 col0\" >Naive_Bayes</td>\n",
              "                        <td id=\"T_a33ece22_b2ca_11ea_9e7f_0242ac1c0002row11_col1\" class=\"data row11 col1\" >0.938596</td>\n",
              "            </tr>\n",
              "            <tr>\n",
              "                        <th id=\"T_a33ece22_b2ca_11ea_9e7f_0242ac1c0002level0_row12\" class=\"row_heading level0 row12\" >12</th>\n",
              "                        <td id=\"T_a33ece22_b2ca_11ea_9e7f_0242ac1c0002row12_col0\" class=\"data row12 col0\" >QDA</td>\n",
              "                        <td id=\"T_a33ece22_b2ca_11ea_9e7f_0242ac1c0002row12_col1\" class=\"data row12 col1\" >0.956140</td>\n",
              "            </tr>\n",
              "            <tr>\n",
              "                        <th id=\"T_a33ece22_b2ca_11ea_9e7f_0242ac1c0002level0_row13\" class=\"row_heading level0 row13\" >13</th>\n",
              "                        <td id=\"T_a33ece22_b2ca_11ea_9e7f_0242ac1c0002row13_col0\" class=\"data row13 col0\" >SGD</td>\n",
              "                        <td id=\"T_a33ece22_b2ca_11ea_9e7f_0242ac1c0002row13_col1\" class=\"data row13 col1\" >0.921053</td>\n",
              "            </tr>\n",
              "    </tbody></table>"
            ],
            "text/plain": [
              "<pandas.io.formats.style.Styler at 0x7f5d11f21518>"
            ]
          },
          "metadata": {
            "tags": []
          },
          "execution_count": 23
        }
      ]
    },
    {
      "cell_type": "markdown",
      "metadata": {
        "id": "n6wGYROLbjaV",
        "colab_type": "text"
      },
      "source": [
        "### 4.4. Bar plot of model performance"
      ]
    },
    {
      "cell_type": "code",
      "metadata": {
        "scrolled": true,
        "id": "nvaao_E1bjaY",
        "colab_type": "code",
        "colab": {
          "base_uri": "https://localhost:8080/",
          "height": 285
        },
        "outputId": "c72dee45-7820-4e8a-fb52-c18d59b8125a"
      },
      "source": [
        "sns.set(style=\"whitegrid\")\n",
        "ax = sns.barplot(y=\"name\", x=\"score\", data=df)"
      ],
      "execution_count": 24,
      "outputs": [
        {
          "output_type": "display_data",
          "data": {
            "image/png": "[encoded data removed]",
            "text/plain": [
              "<Figure size 432x288 with 1 Axes>"
            ]
          },
          "metadata": {
            "tags": []
          }
        }
      ]
    },
    {
      "cell_type": "markdown",
      "metadata": {
        "id": "mQdo_YuVbjap",
        "colab_type": "text"
      },
      "source": [
        "---"
      ]
    }
  ]
}